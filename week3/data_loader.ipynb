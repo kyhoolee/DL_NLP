{
 "cells": [
  {
   "cell_type": "markdown",
   "metadata": {},
   "source": [
    "## Build an efficient data loader"
   ]
  },
  {
   "cell_type": "code",
   "execution_count": 50,
   "metadata": {},
   "outputs": [],
   "source": [
    "import itertools\n",
    "\n",
    "train_file = \"../dataset/restaurant_revs/yelp_train.txt\"\n",
    "dev_file = \"../dataset/restaurant_revs/yelp_val.txt\"\n",
    "test_file = \"../dataset/restaurant_revs/yelp_test.txt\"\n",
    "\n",
    "class Txtfile(object):\n",
    "    \"\"\"\n",
    "    Read txt file\n",
    "    \"\"\"\n",
    "    def __init__(self, fname, source2idx=None, label2idx=None, firstline=False, limit=-1):\n",
    "        self.fname = fname\n",
    "        self.firstline = firstline\n",
    "        self.limit = limit if limit > 0 else None\n",
    "        self.source2idx = source2idx\n",
    "        self.label2idx = label2idx\n",
    "        self.length = None\n",
    "\n",
    "    def __iter__(self):\n",
    "        with open(self.fname, 'r') as f:\n",
    "            f.seek(0)\n",
    "            if self.firstline:\n",
    "                # Skip the header\n",
    "                next(f)\n",
    "            for line in itertools.islice(f, self.limit):\n",
    "                source = line.strip()\n",
    "                if len(source) != 0:\n",
    "                    review, label = Txtfile.process_seq(source)\n",
    "                    if self.source2idx is not None:\n",
    "                        review = self.source2idx(review)\n",
    "                    if self.label2idx is not None:\n",
    "                        label = self.label2idx(label)\n",
    "                    yield review, label\n",
    "\n",
    "    def __len__(self):\n",
    "        \"\"\"Iterates once over the corpus to set and store length\"\"\"\n",
    "        if self.length is None:\n",
    "            self.length = 0\n",
    "            for _ in self:\n",
    "                self.length += 1\n",
    "        return self.length\n",
    "\n",
    "    @staticmethod\n",
    "    def process_seq(seq):\n",
    "        seq = seq.lower().split()\n",
    "        review = \" \".join(seq[:-1])\n",
    "        label = seq[-1]\n",
    "        return review, label"
   ]
  },
  {
   "cell_type": "code",
   "execution_count": 57,
   "metadata": {},
   "outputs": [],
   "source": [
    "train_gen = Txtfile(train_file)\n",
    "train_data = []\n",
    "train_label = []\n",
    "for review, label in train_gen:\n",
    "    train_data.append(review)\n",
    "    train_label.append(label)"
   ]
  },
  {
   "cell_type": "code",
   "execution_count": 58,
   "metadata": {},
   "outputs": [
    {
     "data": {
      "text/plain": [
       "[\"saw the bartender take a lime wedge out of someone's finished mix drink and put it in mine before he served it to me.\",\n",
       " 'it\\'s the time of year for an annual pilgrimage from tempe to the cerreta candy co. for christmas gifts and la perla cafe for dinner. but most likely we\\'ll never go back to la perla. tonight they were charging $10 just to park in their parking lot, and then if you ate dinner there, they would give you back $5. we told the lady in the parking lot that we had driven from tempe for dinner, but it made no difference,\" she said \"\"i\\'m just doing what my boss told me to do.\"\" unfortunately\", i guess people who come for glendale glitters take advantage of their parking lot. we were really in the mood for mexican food, and the good news is we found another restaurant. now when we go to glendale, we will bypass la perla cafe, and go to pedro\\'s at 4938 w. glendale ave. food was very good at pedro\\'s and our wait staff was very helpful.',\n",
       " 'ive been a big fan of ethiopian food for awhile now, i love the way they combine there traditional spices to create unique dishes that is so flavorful. my favorite dish to order is call kitfo special and gore gore. kitfo special is an amazing dish that is serve raw, medium or cook. its mince up meat flavored with ethiopian butter(niter kibe) red pepper powder(mimita) i love the raw one whenever i go to meskerem. make sure you call in advace if your planning on taking out, cause they take foreverrrrrr to cook lolz. trust me on this! one day i had to wait 45 mins for my food to be brought out, i almost fell asleep waiting. now i know better. overall great food! but horrible wait time haha',\n",
       " 'enjoyed the food, staff was very welcoming and friendly and there was no wait at all! will definitely be returning!',\n",
       " 'just not that good for what they charge. for as much as we spent,\" i wanted to feel more than \"\"meh\"\" about the food. the chicken fresco was fine\", but nothing earth shattering or even vaguely creative; my companion\\'s steak was ordered medium rare and came out closer to medium well, which was a disappointment. service was good, and of course the view is great - it\\'s just the food that isn\\'t worth another look. it just kind of feels like they\\'re coasting on their location, which isn\\'t enough to bring me back.']"
      ]
     },
     "execution_count": 58,
     "metadata": {},
     "output_type": "execute_result"
    }
   ],
   "source": [
    "train_data[0:5]"
   ]
  },
  {
   "cell_type": "code",
   "execution_count": 59,
   "metadata": {},
   "outputs": [
    {
     "data": {
      "text/plain": [
       "['1_star', '1_star', '3_star', '5_star', '2_star']"
      ]
     },
     "execution_count": 59,
     "metadata": {},
     "output_type": "execute_result"
    }
   ],
   "source": [
    "train_label[0:5]"
   ]
  },
  {
   "cell_type": "code",
   "execution_count": null,
   "metadata": {},
   "outputs": [],
   "source": []
  }
 ],
 "metadata": {
  "kernelspec": {
   "display_name": "Python 3",
   "language": "python",
   "name": "python3"
  },
  "language_info": {
   "codemirror_mode": {
    "name": "ipython",
    "version": 3
   },
   "file_extension": ".py",
   "mimetype": "text/x-python",
   "name": "python",
   "nbconvert_exporter": "python",
   "pygments_lexer": "ipython3",
   "version": "3.6.6"
  }
 },
 "nbformat": 4,
 "nbformat_minor": 2
}
